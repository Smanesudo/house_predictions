{
 "cells": [
  {
   "cell_type": "markdown",
   "metadata": {},
   "source": [
    "## I - Data Reading"
   ]
  },
  {
   "cell_type": "code",
   "execution_count": 1,
   "metadata": {},
   "outputs": [],
   "source": [
    "import pandas as pd \n",
    "\n",
    "train_data = pd.read_csv(\"train.csv\")\n",
    "test_data = pd.read_csv(\"test.csv\")"
   ]
  },
  {
   "cell_type": "markdown",
   "metadata": {},
   "source": [
    "## II - Exploratory Data Analysis"
   ]
  },
  {
   "cell_type": "markdown",
   "metadata": {},
   "source": [
    "Steps:\n",
    "- Distribution of variables (features and labels): outliers, imbalancement?\n",
    "- Missing values\n",
    "- Correlation\n",
    "- Categorical variables: ordinal, nominal, many distinct values, method of encoding ?\n",
    "- Numerical variables: agregation between variables (sum, mean, percentage ?)"
   ]
  },
  {
   "cell_type": "markdown",
   "metadata": {},
   "source": [
    "### Fonction for analyzing data"
   ]
  },
  {
   "cell_type": "code",
   "execution_count": null,
   "metadata": {},
   "outputs": [],
   "source": [
    "#import pandas as pd\n",
    "#pd.set_option('display.max_rows', 500)\n",
    "#pd.set_option('display.max_columns', 500)\n",
    "#pd.set_option('display.width', 1000)\n",
    "\n",
    "\n",
    "def analyse_data(data, liste_colonnes = None):\n",
    "    \n",
    "    if liste_colonnes is None:\n",
    "        liste_colonnes = list(data.columns)\n",
    "    else:\n",
    "        liste_colonnes = liste_colonnes\n",
    "\n",
    "    display(data[liste_colonnes].head(n=5))\n",
    "\n",
    "    print(\"Dimensions:\", data.shape)\n",
    "    print('\\n')\n",
    "    \n",
    "    cat_non_numerical = []\n",
    "    for i, col in enumerate(liste_colonnes) :\n",
    "        print(\"Colonne n°{}: {}\".format(i, col))\n",
    "        print('-'*30)\n",
    "        print(\"Type de la colonne:\", data[col].dtype)\n",
    "        print(\"Nb de valeurs uniques:\", len(data[col].unique()))\n",
    "        print(\"Comptage des valeurs:\")\n",
    "        print(data[col].value_counts(dropna=False))\n",
    "        percentage_NaN = data[col].isna().sum()/len(data)*100\n",
    "        print(\"Pourcentage de NaN: {}%\".format(percentage_NaN))\n",
    "\n",
    "        print('\\n')\n",
    "        print('*'*50)\n",
    "        print('\\n')\n",
    "        \n",
    "        #if data[col].dtype == 'object':\n",
    "        #    cat_non_numerical.append(col)\n",
    "    \n",
    "    #return cat_non_numerical\n",
    "    \n",
    "    return"
   ]
  },
  {
   "cell_type": "markdown",
   "metadata": {},
   "source": [
    "### 1) Analysis about ordinal features:"
   ]
  },
  {
   "cell_type": "code",
   "execution_count": null,
   "metadata": {},
   "outputs": [],
   "source": [
    "OrdinalFeatures = ['ExterQual', \n",
    "                   'ExterCond',\n",
    "                   'LandSlope', \n",
    "                   'YearBuilt', #nominal or ordinal ? I would say nominal because we can't say 2004 < 2005 ?\n",
    "                   'YearRemodAdd', #nominal or ordinal ? I would say nominal because we can't say 2004 < 2005 ?\n",
    "                   'BsmtQual', \n",
    "                   'BsmtCond',\n",
    "                   'BsmtExposure',\n",
    "                   'BsmtFinType1',\n",
    "                   'BsmtFinType2',\n",
    "                   'HeatingQC',\n",
    "                   'Electrical', #nominal or ordinal ?\n",
    "                   'KitchenQual',\n",
    "                   'FireplaceQu',\n",
    "                   'GarageQual',\n",
    "                   'GarageCond',\n",
    "                   'PoolQC', \n",
    "                   'Fence',\n",
    "                   'MoSold', #nominal or ordinal ?\n",
    "                   'YrSold' #nominal or ordinal ?\n",
    "               ]"
   ]
  },
  {
   "cell_type": "raw",
   "metadata": {},
   "source": [
    "- OverallQual already encoded\n",
    "- OverallCond already encoded\n",
    "- LandSlope: une valeur dominante à 94.7 % \n",
    "- BsmtQual: we have to replace NaN by a value = No Basement before to perform a OrdinalEncoding !"
   ]
  },
  {
   "cell_type": "code",
   "execution_count": null,
   "metadata": {
    "scrolled": true
   },
   "outputs": [],
   "source": [
    "#Analysis for the train data\n",
    "analyse_data(train_data, OrdinalFeatures)"
   ]
  },
  {
   "cell_type": "code",
   "execution_count": null,
   "metadata": {},
   "outputs": [],
   "source": [
    "#Analysis for the test data\n",
    "analyse_data(test_data, OrdinalFeatures)"
   ]
  },
  {
   "cell_type": "code",
   "execution_count": null,
   "metadata": {},
   "outputs": [],
   "source": [
    "print(cat_non_numerical)"
   ]
  },
  {
   "cell_type": "code",
   "execution_count": null,
   "metadata": {},
   "outputs": [],
   "source": [
    "train_data['MoSold'].value_counts()"
   ]
  },
  {
   "cell_type": "code",
   "execution_count": null,
   "metadata": {},
   "outputs": [],
   "source": [
    "- MSSubClass: nominal variable\n",
    "- MSZoning: nominal variable\n",
    "- LotArea: 215k outlier ?\n",
    "- Street: nominal variable, Enlever la variable ?\n",
    "- Alley: nominal variable, Remplacer NaN par une valeur ? \n",
    "- LotShape: nominal variable\n",
    "- LandContour: nominal variable\n",
    "- Utilities: nominal variable, suppression de la variable ?\n",
    "- LotConfig: nominal variable\n",
    "- LandSlope: ordinal variable\n",
    "- Neighborhood: nominal variable\n",
    "- Condition1: nominal variable\n",
    "- Condition2: nominal variable, déséquilibre distribution: suppression variable ? \n",
    "- BldgType: nominal variable\n",
    "- HouseStyle: nominal variable     \n",
    "- OverallQual: ordinal variable\n",
    "- OverallCond:  ordinal variable\n",
    "    regarder corrélation avec chi2, pearson avec OverallQual\n",
    "YearBuilt: ordinal or nominal variable ?, transformer en durée\n",
    "YearRemodAdd: ordinal or nominal variable ? transformer en durée, corrélation avec YearBuilt\n",
    "RoofStyle: nominal variable\n",
    "RoofMatl: nominal variable\n",
    "Exterior1st: nominal variable\n",
    "Exterior2nd: nominal variable\n",
    "MasVnrType: nominal variable, Presence de None et de Nan, est-ce que la même chose ou c'est différent ?\n",
    "MasVnrArea: numérique, Présence de NaN\n",
    "ExterQual: ordinal variable\n",
    "ExterCond:  ordinal variable\n",
    "Foundation:  nominal variable\n",
    "BsmtQual: ordinal variable, NaN\n",
    "BsmtCond: ordinal variable, NaN\n",
    "BsmtExposure: ordinal variable, NaN\n",
    "BsmtFinType1: ordinal variable, NaN\n",
    "BsmtFinSF1: continuous,  énormément de 0, distribution déséquilibrée\n",
    "BsmtFinType2:  ordinal variable, NaN\n",
    "BsmtFinSF2: continuous, énormément de 0, distribution déséquilibrée\n",
    "BsmtUnfSF: continuous\n",
    "TotalBsmtSF: continuous, à mettre ensemble avec BsmtUnfSF en pourcentage ?\n",
    "Heating: nominal variable, distribution déséquilibrée\n",
    "HeatingQC: ordinal variable\n",
    "CentralAir: nominal (binary) variable string, distribution déséquilibrée, label encoding ?\n",
    "Electrical: ordinal or nominal variable ?, 1 seul NaN,  distribution déséquilibrée, label encoding\n",
    "1stFlrSF: continuous\n",
    "2ndFlrSF: continuous, distribution déséquilibrée\n",
    "LowQualFinSF: continuous, distribution déséquilibrée, faire somme avec 1stFlrSF et 2ndFlrSF\n",
    "GrLivArea: continuous, on peut ptet l'utiliser avec 1stFlrSF et 2ndFlrSF\n",
    "BsmtFullBath: numérique\n",
    "BsmtHalfBath: numérique, distribution déséquilibrée\n",
    "FullBath: numérique\n",
    "HalfBath: numérique\n",
    "Bedroom: numerical variable\n",
    "Kitchen: numerical variable\n",
    "KitchenQual: ordinal variable\n",
    "TotRmsAbvGrd: numerical variable\n",
    "Functional: nominal variable\n",
    "Fireplaces: numerical variable\n",
    "FireplaceQu: ordinal variable, NaN   = pas de cheminée\n",
    "GarageType:  nominal variable, NaN = No Garage\n",
    "GarageYrBlt: transformer en durée, il y a des NaN\n",
    "GarageFinish: nominal variable, NaN = no garage\n",
    "GarageCars: continuous\n",
    "GarageArea: continuous\n",
    "GarageQual: ordinal, NaN, distribution déséquilibrée\n",
    "GarageCond: ordinal, NaN, distribution déséquilibrée\n",
    "PavedDrive: nominal,  distribution déséquilibrée\n",
    "WoodDeckSF: continuous\n",
    "OpenPorchSF: continuous,distribution déséquilibrée\n",
    "EnclosedPorch : continuous,distribution déséquilibrée   \n",
    "3SsnPorch: continuous, distribution déséquilibrée   \n",
    "ScreenPorch: continuous, distribution déséquilibrée \n",
    "PoolArea:continuous, distribution déséquilibrée \n",
    "PoolQC: ordinal, bcp de NaN = No Pool\n",
    "Fence: ordinal, bcp de NaN = No Fence\n",
    "MiscFeature: nominal, bcp de NaN = None\n",
    "MiscVal: continuous, bcp de 0\n",
    "MoSold: nominal or ordinal (mois) à transformer en durée ?\n",
    "YrSold: nominal or ordinal(année) à transformer en durée ?\n",
    "SaleType: nominal, distribution déséquilibrée  \n",
    "SaleCondition: nominal, distribution déséquilibrée "
   ]
  },
  {
   "cell_type": "code",
   "execution_count": null,
   "metadata": {},
   "outputs": [],
   "source": [
    "#from pandas_profiling import ProfileReport"
   ]
  },
  {
   "cell_type": "markdown",
   "metadata": {},
   "source": [
    "## III - Features Engineering"
   ]
  },
  {
   "cell_type": "code",
   "execution_count": 2,
   "metadata": {},
   "outputs": [],
   "source": [
    "train = train_data.copy()\n",
    "test = test_data.copy()"
   ]
  },
  {
   "cell_type": "markdown",
   "metadata": {},
   "source": [
    "### 1) Missing values"
   ]
  },
  {
   "cell_type": "code",
   "execution_count": 3,
   "metadata": {},
   "outputs": [],
   "source": [
    "import numpy as np\n",
    "def replace_nan(train, test, column, new_value):\n",
    "    train[column] = train[column].replace(np.nan, new_value)\n",
    "    test[column] = test[column].replace(np.nan, new_value)\n",
    "    return train, test"
   ]
  },
  {
   "cell_type": "code",
   "execution_count": 4,
   "metadata": {},
   "outputs": [],
   "source": [
    "train, test = replace_nan(train, test, 'BsmtQual', 'NoBasement')"
   ]
  },
  {
   "cell_type": "code",
   "execution_count": null,
   "metadata": {},
   "outputs": [],
   "source": [
    "train['BsmtQual'].value_counts()"
   ]
  },
  {
   "cell_type": "code",
   "execution_count": null,
   "metadata": {},
   "outputs": [],
   "source": [
    "test['BsmtQual'].value_counts()"
   ]
  },
  {
   "cell_type": "markdown",
   "metadata": {},
   "source": [
    "### 2) Ordinal Variables"
   ]
  },
  {
   "cell_type": "code",
   "execution_count": null,
   "metadata": {},
   "outputs": [],
   "source": [
    "#train['ExterQual'].value_counts()"
   ]
  },
  {
   "cell_type": "code",
   "execution_count": null,
   "metadata": {},
   "outputs": [],
   "source": [
    "#Label Encoding for ordinal variables\n",
    "#from sklearn import preprocessing\n",
    "#le = preprocessing.LabelEncoder()\n",
    "#OrdinalFeature = 'ExterQual'#\n",
    "#train[OrdinalFeature+ 'Encoded'] = le.fit_transform(train['ExterQual'])\n",
    "#train2 = train.drop(OrdinalFeature, axis=1)"
   ]
  },
  {
   "cell_type": "code",
   "execution_count": null,
   "metadata": {},
   "outputs": [],
   "source": [
    "#le.classes_\n",
    "#How LabelEncoder choose the order to encode the distinct values ?\n",
    "#In the case of strings, LabelEncoder sorts alphabetically the distinct values and then it assign values from 0 to N\n",
    "\n",
    "#With Label Encoding we have this following order: \n",
    "#['Ex', 'Fa', 'Gd', 'TA'] = [0,1,2,3]\n",
    "#The correct order according to the data_description is:\n",
    "#       Ex\tExcellent\n",
    "#       Gd\tGood\n",
    "#       TA\tAverage/Typical\n",
    "#       Fa\tFair\n",
    "#       Po\tPoor\n",
    "#so we must have Po < Fa < TA < Gd < Ex => ['Po', 'Fa', 'TA', 'Gd', 'Ex']  = [0,1,2,3,4]\n",
    "#But Po doesn't exist in our data, so we have : \n",
    "#['Fa', 'TA', 'Gd', 'Ex'] = [0,1,2,3]\n",
    "\n",
    "#Should we use the order of LabelEncoder or the order of the data description ?\n",
    "#There is a difference for the algorithm ?\n",
    "#If yes, so we have to create our own LabelEncoder for using the correct order."
   ]
  },
  {
   "cell_type": "markdown",
   "metadata": {},
   "source": [
    "#### <font color = 'brown'> Reverse Helmert Encoding </font>"
   ]
  },
  {
   "cell_type": "code",
   "execution_count": null,
   "metadata": {},
   "outputs": [],
   "source": [
    "import category_encoders as ce\n",
    "enc = ce.HelmertEncoder(cols = ['ExterQual'], drop_invariant = True)\n",
    "dfh = enc.fit_transform(train['ExterQual'])\n",
    "df = pd.concat([train, dfh], axis = 1)"
   ]
  },
  {
   "cell_type": "code",
   "execution_count": null,
   "metadata": {},
   "outputs": [],
   "source": [
    "df['ExterQual'].value_counts()"
   ]
  },
  {
   "cell_type": "raw",
   "metadata": {},
   "source": [
    "Pour n catégories, on crée n-1 colonnes:\n",
    "Par exemple, on applique sur la colonne ExterQual ayant 4 valeurs distinctes:\n",
    "TA, Gd, Ex et Fa\n",
    "\n",
    "- Pour la première colonne ExterQual_0:\n",
    "on compare TA à Gd, on mets 1 pour TA, -1 pour Gd et 0 pour le reste.\n",
    "- Pour la 2eme colonne ExterQual_1:\n",
    "on compare Ex à TA et Gd, on mets 2 pour Ex, -1 pour TA et Gd et 0 pour le reste, c'est à dire pour Fa\n",
    "- Pour la 3eme colonne ExterQual_2:\n",
    "on compare Fa à Ex, TA et GD, on mets 3 pour Fa, -1 pour Ex, TA et GD\n",
    "\n",
    "Avec cette librairie, on ne divise pas les nombres de chaque colonne par le nombre de niveaux qu'on compare \n",
    "contrairement à ce qui est dit dans la théorie:\n",
    "https://stats.idre.ucla.edu/spss/faq/coding-systems-for-categorical-variables-in-regression-analysis-2/#HELMERT%20EFFECT%20CODING"
   ]
  },
  {
   "cell_type": "code",
   "execution_count": null,
   "metadata": {},
   "outputs": [],
   "source": [
    "import pandas as pd\n",
    "pd.set_option('display.max_rows', 5500)\n",
    "pd.set_option('display.max_columns', 500)\n",
    "pd.set_option('display.width', 1000)\n",
    "\n",
    "\n",
    "display(df[['ExterQual','ExterQual_0','ExterQual_1','ExterQual_2']])"
   ]
  },
  {
   "cell_type": "code",
   "execution_count": null,
   "metadata": {},
   "outputs": [],
   "source": [
    "df[df['ExterQual'] == 'Fa']['ExterQual_2']"
   ]
  },
  {
   "cell_type": "markdown",
   "metadata": {},
   "source": [
    "#### <font color = 'brown'> Ordinal Encoding </font>"
   ]
  },
  {
   "cell_type": "code",
   "execution_count": 22,
   "metadata": {},
   "outputs": [],
   "source": [
    "from sklearn.preprocessing import OrdinalEncoder\n",
    "def OrdinalEncoding(train, test, features, categories = None, dtype = 'int32', trace = True):\n",
    "    train2 = train.copy()\n",
    "    test2 = test.copy()\n",
    "    \n",
    "    if categories is not None:\n",
    "        enc = OrdinalEncoder(dtype = dtype, categories = categories) #our order\n",
    "    else:\n",
    "        enc = OrdinalEncoder(dtype = dtype) #automatic order\n",
    "    train2[features] = enc.fit_transform(train[features])\n",
    "    test2[features] = enc.transform(test[features])\n",
    "    \n",
    "    if trace is True:\n",
    "        print('Train:')\n",
    "        display(train2[features].head(n=5))\n",
    "        print('Test:')\n",
    "        display(test2[features].head(n=5))\n",
    "    \n",
    "    return train2, test2"
   ]
  },
  {
   "cell_type": "code",
   "execution_count": null,
   "metadata": {},
   "outputs": [],
   "source": [
    "#For 1 feature:\n",
    "#import numpy as np\n",
    "#OrdinalFeatures = ['ExterQual']\n",
    "#categories = [['Fa', 'TA', 'Gd', 'Ex']]\n",
    "#train, test = OrdinalEncoding(train, test, OrdinalFeatures,  categories)"
   ]
  },
  {
   "cell_type": "code",
   "execution_count": 23,
   "metadata": {},
   "outputs": [
    {
     "name": "stdout",
     "output_type": "stream",
     "text": [
      "With our own order:\n",
      "Train:\n"
     ]
    },
    {
     "data": {
      "text/html": [
       "<div>\n",
       "<style scoped>\n",
       "    .dataframe tbody tr th:only-of-type {\n",
       "        vertical-align: middle;\n",
       "    }\n",
       "\n",
       "    .dataframe tbody tr th {\n",
       "        vertical-align: top;\n",
       "    }\n",
       "\n",
       "    .dataframe thead th {\n",
       "        text-align: right;\n",
       "    }\n",
       "</style>\n",
       "<table border=\"1\" class=\"dataframe\">\n",
       "  <thead>\n",
       "    <tr style=\"text-align: right;\">\n",
       "      <th></th>\n",
       "      <th>ExterQual</th>\n",
       "      <th>ExterCond</th>\n",
       "      <th>LandSlope</th>\n",
       "      <th>BsmtQual</th>\n",
       "    </tr>\n",
       "  </thead>\n",
       "  <tbody>\n",
       "    <tr>\n",
       "      <th>0</th>\n",
       "      <td>2</td>\n",
       "      <td>2</td>\n",
       "      <td>0</td>\n",
       "      <td>4</td>\n",
       "    </tr>\n",
       "    <tr>\n",
       "      <th>1</th>\n",
       "      <td>1</td>\n",
       "      <td>2</td>\n",
       "      <td>0</td>\n",
       "      <td>4</td>\n",
       "    </tr>\n",
       "    <tr>\n",
       "      <th>2</th>\n",
       "      <td>2</td>\n",
       "      <td>2</td>\n",
       "      <td>0</td>\n",
       "      <td>4</td>\n",
       "    </tr>\n",
       "    <tr>\n",
       "      <th>3</th>\n",
       "      <td>1</td>\n",
       "      <td>2</td>\n",
       "      <td>0</td>\n",
       "      <td>3</td>\n",
       "    </tr>\n",
       "    <tr>\n",
       "      <th>4</th>\n",
       "      <td>2</td>\n",
       "      <td>2</td>\n",
       "      <td>0</td>\n",
       "      <td>4</td>\n",
       "    </tr>\n",
       "  </tbody>\n",
       "</table>\n",
       "</div>"
      ],
      "text/plain": [
       "   ExterQual  ExterCond  LandSlope  BsmtQual\n",
       "0          2          2          0         4\n",
       "1          1          2          0         4\n",
       "2          2          2          0         4\n",
       "3          1          2          0         3\n",
       "4          2          2          0         4"
      ]
     },
     "metadata": {},
     "output_type": "display_data"
    },
    {
     "name": "stdout",
     "output_type": "stream",
     "text": [
      "Test:\n"
     ]
    },
    {
     "data": {
      "text/html": [
       "<div>\n",
       "<style scoped>\n",
       "    .dataframe tbody tr th:only-of-type {\n",
       "        vertical-align: middle;\n",
       "    }\n",
       "\n",
       "    .dataframe tbody tr th {\n",
       "        vertical-align: top;\n",
       "    }\n",
       "\n",
       "    .dataframe thead th {\n",
       "        text-align: right;\n",
       "    }\n",
       "</style>\n",
       "<table border=\"1\" class=\"dataframe\">\n",
       "  <thead>\n",
       "    <tr style=\"text-align: right;\">\n",
       "      <th></th>\n",
       "      <th>ExterQual</th>\n",
       "      <th>ExterCond</th>\n",
       "      <th>LandSlope</th>\n",
       "      <th>BsmtQual</th>\n",
       "    </tr>\n",
       "  </thead>\n",
       "  <tbody>\n",
       "    <tr>\n",
       "      <th>0</th>\n",
       "      <td>1</td>\n",
       "      <td>2</td>\n",
       "      <td>0</td>\n",
       "      <td>3</td>\n",
       "    </tr>\n",
       "    <tr>\n",
       "      <th>1</th>\n",
       "      <td>1</td>\n",
       "      <td>2</td>\n",
       "      <td>0</td>\n",
       "      <td>3</td>\n",
       "    </tr>\n",
       "    <tr>\n",
       "      <th>2</th>\n",
       "      <td>1</td>\n",
       "      <td>2</td>\n",
       "      <td>0</td>\n",
       "      <td>4</td>\n",
       "    </tr>\n",
       "    <tr>\n",
       "      <th>3</th>\n",
       "      <td>1</td>\n",
       "      <td>2</td>\n",
       "      <td>0</td>\n",
       "      <td>3</td>\n",
       "    </tr>\n",
       "    <tr>\n",
       "      <th>4</th>\n",
       "      <td>2</td>\n",
       "      <td>2</td>\n",
       "      <td>0</td>\n",
       "      <td>4</td>\n",
       "    </tr>\n",
       "  </tbody>\n",
       "</table>\n",
       "</div>"
      ],
      "text/plain": [
       "   ExterQual  ExterCond  LandSlope  BsmtQual\n",
       "0          1          2          0         3\n",
       "1          1          2          0         3\n",
       "2          1          2          0         4\n",
       "3          1          2          0         3\n",
       "4          2          2          0         4"
      ]
     },
     "metadata": {},
     "output_type": "display_data"
    },
    {
     "name": "stdout",
     "output_type": "stream",
     "text": [
      "\n",
      "\n",
      "With automatic order:\n",
      "Train:\n"
     ]
    },
    {
     "data": {
      "text/html": [
       "<div>\n",
       "<style scoped>\n",
       "    .dataframe tbody tr th:only-of-type {\n",
       "        vertical-align: middle;\n",
       "    }\n",
       "\n",
       "    .dataframe tbody tr th {\n",
       "        vertical-align: top;\n",
       "    }\n",
       "\n",
       "    .dataframe thead th {\n",
       "        text-align: right;\n",
       "    }\n",
       "</style>\n",
       "<table border=\"1\" class=\"dataframe\">\n",
       "  <thead>\n",
       "    <tr style=\"text-align: right;\">\n",
       "      <th></th>\n",
       "      <th>ExterQual</th>\n",
       "      <th>ExterCond</th>\n",
       "      <th>LandSlope</th>\n",
       "      <th>BsmtQual</th>\n",
       "    </tr>\n",
       "  </thead>\n",
       "  <tbody>\n",
       "    <tr>\n",
       "      <th>0</th>\n",
       "      <td>2</td>\n",
       "      <td>4</td>\n",
       "      <td>0</td>\n",
       "      <td>2</td>\n",
       "    </tr>\n",
       "    <tr>\n",
       "      <th>1</th>\n",
       "      <td>3</td>\n",
       "      <td>4</td>\n",
       "      <td>0</td>\n",
       "      <td>2</td>\n",
       "    </tr>\n",
       "    <tr>\n",
       "      <th>2</th>\n",
       "      <td>2</td>\n",
       "      <td>4</td>\n",
       "      <td>0</td>\n",
       "      <td>2</td>\n",
       "    </tr>\n",
       "    <tr>\n",
       "      <th>3</th>\n",
       "      <td>3</td>\n",
       "      <td>4</td>\n",
       "      <td>0</td>\n",
       "      <td>4</td>\n",
       "    </tr>\n",
       "    <tr>\n",
       "      <th>4</th>\n",
       "      <td>2</td>\n",
       "      <td>4</td>\n",
       "      <td>0</td>\n",
       "      <td>2</td>\n",
       "    </tr>\n",
       "  </tbody>\n",
       "</table>\n",
       "</div>"
      ],
      "text/plain": [
       "   ExterQual  ExterCond  LandSlope  BsmtQual\n",
       "0          2          4          0         2\n",
       "1          3          4          0         2\n",
       "2          2          4          0         2\n",
       "3          3          4          0         4\n",
       "4          2          4          0         2"
      ]
     },
     "metadata": {},
     "output_type": "display_data"
    },
    {
     "name": "stdout",
     "output_type": "stream",
     "text": [
      "Test:\n"
     ]
    },
    {
     "data": {
      "text/html": [
       "<div>\n",
       "<style scoped>\n",
       "    .dataframe tbody tr th:only-of-type {\n",
       "        vertical-align: middle;\n",
       "    }\n",
       "\n",
       "    .dataframe tbody tr th {\n",
       "        vertical-align: top;\n",
       "    }\n",
       "\n",
       "    .dataframe thead th {\n",
       "        text-align: right;\n",
       "    }\n",
       "</style>\n",
       "<table border=\"1\" class=\"dataframe\">\n",
       "  <thead>\n",
       "    <tr style=\"text-align: right;\">\n",
       "      <th></th>\n",
       "      <th>ExterQual</th>\n",
       "      <th>ExterCond</th>\n",
       "      <th>LandSlope</th>\n",
       "      <th>BsmtQual</th>\n",
       "    </tr>\n",
       "  </thead>\n",
       "  <tbody>\n",
       "    <tr>\n",
       "      <th>0</th>\n",
       "      <td>3</td>\n",
       "      <td>4</td>\n",
       "      <td>0</td>\n",
       "      <td>4</td>\n",
       "    </tr>\n",
       "    <tr>\n",
       "      <th>1</th>\n",
       "      <td>3</td>\n",
       "      <td>4</td>\n",
       "      <td>0</td>\n",
       "      <td>4</td>\n",
       "    </tr>\n",
       "    <tr>\n",
       "      <th>2</th>\n",
       "      <td>3</td>\n",
       "      <td>4</td>\n",
       "      <td>0</td>\n",
       "      <td>2</td>\n",
       "    </tr>\n",
       "    <tr>\n",
       "      <th>3</th>\n",
       "      <td>3</td>\n",
       "      <td>4</td>\n",
       "      <td>0</td>\n",
       "      <td>4</td>\n",
       "    </tr>\n",
       "    <tr>\n",
       "      <th>4</th>\n",
       "      <td>2</td>\n",
       "      <td>4</td>\n",
       "      <td>0</td>\n",
       "      <td>2</td>\n",
       "    </tr>\n",
       "  </tbody>\n",
       "</table>\n",
       "</div>"
      ],
      "text/plain": [
       "   ExterQual  ExterCond  LandSlope  BsmtQual\n",
       "0          3          4          0         4\n",
       "1          3          4          0         4\n",
       "2          3          4          0         2\n",
       "3          3          4          0         4\n",
       "4          2          4          0         2"
      ]
     },
     "metadata": {},
     "output_type": "display_data"
    }
   ],
   "source": [
    "#For several features\n",
    "import numpy as np\n",
    "OrdinalFeatures = ['ExterQual', \n",
    "                   'ExterCond',\n",
    "                   'LandSlope', \n",
    "                   #'YearBuilt', #nominal or ordinal ?\n",
    "                   #'YearRemodAdd', ##nominal or ordinal ?\n",
    "                   'BsmtQual', \n",
    "#                   'BsmtCond',\n",
    "#                   'BsmtExposure',\n",
    "#                   'BsmtFinType1',\n",
    "#                   'BsmtFinType2',\n",
    "#                   'HeatingQC',\n",
    "#                   'Electrical', #nominal or ordinal ?\n",
    "#                   'KitchenQual',\n",
    "#                   'FireplaceQu',\n",
    "#                   'GarageQual',\n",
    "#                   'GarageCond',\n",
    "#                   'PoolQC', \n",
    "#                   'Fence',\n",
    "#                   'MoSold', #nominal or ordinal ?\n",
    "#                   'YrSold' #nominal or ordinal ?\n",
    "           \n",
    "          ]\n",
    "categories = [['Fa', 'TA', 'Gd', 'Ex'],\n",
    "              ['Po','Fa', 'TA', 'Gd', 'Ex'], \n",
    "              ['Gtl', 'Mod', 'Sev'],\n",
    "              ['NoBasement', 'Po','Fa', 'TA', 'Gd', 'Ex'], \n",
    "              ]\n",
    "#Our own order\n",
    "print('With our own order:')\n",
    "train_ordinal_encoded, test_ordinal_encoded = OrdinalEncoding(train,\n",
    "                                                              test,\n",
    "                                                              OrdinalFeatures,\n",
    "                                                              categories,\n",
    "                                                              trace = True)\n",
    "print('\\n')\n",
    "#Automatic order\n",
    "print('With automatic order:')\n",
    "train_ordinal_auto_encoded, test_ordinal_auto_encoded = OrdinalEncoding(train,\n",
    "                                                                        test,\n",
    "                                                                        OrdinalFeatures,\n",
    "                                                                        categories = None, \n",
    "                                                                        trace = True)"
   ]
  },
  {
   "cell_type": "markdown",
   "metadata": {},
   "source": [
    "## Algorithm ML"
   ]
  },
  {
   "cell_type": "code",
   "execution_count": null,
   "metadata": {},
   "outputs": [],
   "source": [
    "#We remove 'Id' because distribution is too dispersed\n",
    "#We remove SalePrice because it's the label\n",
    "#X =  train.drop(['Id',SalePrice'], axis = 1)\n",
    "X = train[OrdinalFeatures]\n",
    "y = train['SalePrice']"
   ]
  },
  {
   "cell_type": "code",
   "execution_count": null,
   "metadata": {},
   "outputs": [],
   "source": [
    "from sklearn import tree\n",
    "from sklearn.model_selection import cross_val_score\n",
    "\n",
    "clf = tree.DecisionTreeClassifier()\n",
    "clf = clf.fit(X, y)\n",
    "\n",
    "scores = cross_val_score(clf, X, y, cv=10)\n",
    "print(\"Accuracy: %0.2f (+/- %0.2f)\" % (scores.mean(), scores.std() * 2))"
   ]
  },
  {
   "cell_type": "code",
   "execution_count": null,
   "metadata": {},
   "outputs": [],
   "source": [
    "clf.predict()"
   ]
  },
  {
   "cell_type": "markdown",
   "metadata": {},
   "source": [
    "## Pipeline"
   ]
  },
  {
   "cell_type": "code",
   "execution_count": null,
   "metadata": {},
   "outputs": [],
   "source": [
    "#from sklearn.pipeline import Pipeline\n",
    "#from sklearn import tree\n",
    "#from sklearn.preprocessing import OrdinalEncoder\n",
    "#\n",
    "#OrdinalFeatures = ['ExterQual','ExterCond']\n",
    "#enc = OrdinalEncoder(dtype = 'int32', categories = [['Fa', 'TA', 'Gd', 'Ex'],['Po','Fa', 'TA', 'Gd', 'Ex']])\n",
    "#clf = tree.DecisionTreeClassifier()\n",
    "#estimators = [('enc ', enc), ('clf', clf )]\n",
    "#pipe = Pipeline(estimators)\n",
    "#train[OrdinalFeatures] = pipe.fit_transform(train[OrdinalFeatures])\n",
    "#test[OrdinalFeatures] = pipe.transform(test[OrdinalFeatures])"
   ]
  }
 ],
 "metadata": {
  "kernelspec": {
   "display_name": "Python 3",
   "language": "python",
   "name": "python3"
  },
  "language_info": {
   "codemirror_mode": {
    "name": "ipython",
    "version": 3
   },
   "file_extension": ".py",
   "mimetype": "text/x-python",
   "name": "python",
   "nbconvert_exporter": "python",
   "pygments_lexer": "ipython3",
   "version": "3.7.2"
  }
 },
 "nbformat": 4,
 "nbformat_minor": 2
}
